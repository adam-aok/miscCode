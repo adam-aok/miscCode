{
 "cells": [
  {
   "cell_type": "code",
   "execution_count": 1,
   "id": "nominated-incentive",
   "metadata": {},
   "outputs": [],
   "source": [
    "import pandas as pd\n",
    "import numpy as np\n",
    "%matplotlib inline"
   ]
  },
  {
   "cell_type": "code",
   "execution_count": 2,
   "id": "absolute-session",
   "metadata": {},
   "outputs": [],
   "source": [
    "pd.set_option('display.max_columns',40)"
   ]
  },
  {
   "cell_type": "code",
   "execution_count": 3,
   "id": "cosmetic-million",
   "metadata": {},
   "outputs": [],
   "source": [
    "adult_schema = pd.read_csv('adult_attributes.txt',\n",
    "                       sep=':',names=['column','description'])"
   ]
  },
  {
   "cell_type": "code",
   "execution_count": 4,
   "id": "backed-belarus",
   "metadata": {},
   "outputs": [
    {
     "data": {
      "text/html": [
       "<div>\n",
       "<style scoped>\n",
       "    .dataframe tbody tr th:only-of-type {\n",
       "        vertical-align: middle;\n",
       "    }\n",
       "\n",
       "    .dataframe tbody tr th {\n",
       "        vertical-align: top;\n",
       "    }\n",
       "\n",
       "    .dataframe thead th {\n",
       "        text-align: right;\n",
       "    }\n",
       "</style>\n",
       "<table border=\"1\" class=\"dataframe\">\n",
       "  <thead>\n",
       "    <tr style=\"text-align: right;\">\n",
       "      <th></th>\n",
       "      <th>column</th>\n",
       "      <th>description</th>\n",
       "    </tr>\n",
       "  </thead>\n",
       "  <tbody>\n",
       "    <tr>\n",
       "      <th>0</th>\n",
       "      <td>age</td>\n",
       "      <td>continuous.</td>\n",
       "    </tr>\n",
       "    <tr>\n",
       "      <th>1</th>\n",
       "      <td>workclass</td>\n",
       "      <td>Private, Self-emp-not-inc, Self-emp-inc, Fede...</td>\n",
       "    </tr>\n",
       "    <tr>\n",
       "      <th>2</th>\n",
       "      <td>fnlwgt</td>\n",
       "      <td>continuous.</td>\n",
       "    </tr>\n",
       "    <tr>\n",
       "      <th>3</th>\n",
       "      <td>education</td>\n",
       "      <td>Bachelors, Some-college, 11th, HS-grad, Prof-...</td>\n",
       "    </tr>\n",
       "    <tr>\n",
       "      <th>4</th>\n",
       "      <td>education-num</td>\n",
       "      <td>continuous.</td>\n",
       "    </tr>\n",
       "    <tr>\n",
       "      <th>5</th>\n",
       "      <td>marital-status</td>\n",
       "      <td>Married-civ-spouse, Divorced, Never-married, ...</td>\n",
       "    </tr>\n",
       "    <tr>\n",
       "      <th>6</th>\n",
       "      <td>occupation</td>\n",
       "      <td>Tech-support, Craft-repair, Other-service, Sa...</td>\n",
       "    </tr>\n",
       "    <tr>\n",
       "      <th>7</th>\n",
       "      <td>relationship</td>\n",
       "      <td>Wife, Own-child, Husband, Not-in-family, Othe...</td>\n",
       "    </tr>\n",
       "    <tr>\n",
       "      <th>8</th>\n",
       "      <td>race</td>\n",
       "      <td>White, Asian-Pac-Islander, Amer-Indian-Eskimo...</td>\n",
       "    </tr>\n",
       "    <tr>\n",
       "      <th>9</th>\n",
       "      <td>sex</td>\n",
       "      <td>Female, Male.</td>\n",
       "    </tr>\n",
       "    <tr>\n",
       "      <th>10</th>\n",
       "      <td>capital-gain</td>\n",
       "      <td>continuous.</td>\n",
       "    </tr>\n",
       "    <tr>\n",
       "      <th>11</th>\n",
       "      <td>capital-loss</td>\n",
       "      <td>continuous.</td>\n",
       "    </tr>\n",
       "    <tr>\n",
       "      <th>12</th>\n",
       "      <td>hours-per-week</td>\n",
       "      <td>continuous.</td>\n",
       "    </tr>\n",
       "    <tr>\n",
       "      <th>13</th>\n",
       "      <td>native-country</td>\n",
       "      <td>United-States, Cambodia, England, Puerto-Rico...</td>\n",
       "    </tr>\n",
       "    <tr>\n",
       "      <th>14</th>\n",
       "      <td>income</td>\n",
       "      <td>&gt;50K, &lt;=50K.</td>\n",
       "    </tr>\n",
       "  </tbody>\n",
       "</table>\n",
       "</div>"
      ],
      "text/plain": [
       "            column                                        description\n",
       "0              age                                       continuous. \n",
       "1        workclass   Private, Self-emp-not-inc, Self-emp-inc, Fede...\n",
       "2           fnlwgt                                       continuous. \n",
       "3        education   Bachelors, Some-college, 11th, HS-grad, Prof-...\n",
       "4    education-num                                       continuous. \n",
       "5   marital-status   Married-civ-spouse, Divorced, Never-married, ...\n",
       "6       occupation   Tech-support, Craft-repair, Other-service, Sa...\n",
       "7     relationship   Wife, Own-child, Husband, Not-in-family, Othe...\n",
       "8             race   White, Asian-Pac-Islander, Amer-Indian-Eskimo...\n",
       "9              sex                                     Female, Male. \n",
       "10    capital-gain                                       continuous. \n",
       "11    capital-loss                                       continuous. \n",
       "12  hours-per-week                                       continuous. \n",
       "13  native-country   United-States, Cambodia, England, Puerto-Rico...\n",
       "14          income                                      >50K, <=50K. "
      ]
     },
     "execution_count": 4,
     "metadata": {},
     "output_type": "execute_result"
    }
   ],
   "source": [
    "adult_schema"
   ]
  },
  {
   "cell_type": "code",
   "execution_count": 5,
   "id": "reliable-calculation",
   "metadata": {},
   "outputs": [
    {
     "data": {
      "text/plain": [
       "array(['age', 'workclass', 'fnlwgt', 'education', 'education-num',\n",
       "       'marital-status', 'occupation', 'relationship', 'race', 'sex',\n",
       "       'capital-gain', 'capital-loss', 'hours-per-week', 'native-country',\n",
       "       'income'], dtype=object)"
      ]
     },
     "execution_count": 5,
     "metadata": {},
     "output_type": "execute_result"
    }
   ],
   "source": [
    "adult_schema['column'].values"
   ]
  },
  {
   "cell_type": "code",
   "execution_count": 6,
   "id": "nasty-staff",
   "metadata": {},
   "outputs": [],
   "source": [
    "headers = adult_schema['column'].values"
   ]
  },
  {
   "cell_type": "code",
   "execution_count": 7,
   "id": "lightweight-romania",
   "metadata": {},
   "outputs": [],
   "source": [
    "df = pd.read_csv('adult.csv',names=headers)"
   ]
  },
  {
   "cell_type": "code",
   "execution_count": 8,
   "id": "tested-vatican",
   "metadata": {},
   "outputs": [],
   "source": [
    "df['native-country'] = df['native-country'].str.replace('-',' ')"
   ]
  },
  {
   "cell_type": "code",
   "execution_count": 9,
   "id": "infectious-factor",
   "metadata": {},
   "outputs": [
    {
     "data": {
      "text/plain": [
       "(32561, 15)"
      ]
     },
     "execution_count": 9,
     "metadata": {},
     "output_type": "execute_result"
    }
   ],
   "source": [
    "df.shape"
   ]
  },
  {
   "cell_type": "code",
   "execution_count": 10,
   "id": "spare-thought",
   "metadata": {},
   "outputs": [],
   "source": [
    "df.to_csv('transformed_data.csv')"
   ]
  },
  {
   "cell_type": "code",
   "execution_count": 11,
   "id": "missing-metro",
   "metadata": {},
   "outputs": [
    {
     "data": {
      "text/plain": [
       " Private             22696\n",
       " Self-emp-not-inc     2541\n",
       " Local-gov            2093\n",
       " ?                    1836\n",
       " State-gov            1298\n",
       " Self-emp-inc         1116\n",
       " Federal-gov           960\n",
       " Without-pay            14\n",
       " Never-worked            7\n",
       "Name: workclass, dtype: int64"
      ]
     },
     "execution_count": 11,
     "metadata": {},
     "output_type": "execute_result"
    }
   ],
   "source": [
    "df['workclass'].value_counts()"
   ]
  },
  {
   "cell_type": "code",
   "execution_count": 12,
   "id": "metallic-converter",
   "metadata": {},
   "outputs": [
    {
     "data": {
      "text/plain": [
       " Prof-specialty       4140\n",
       " Craft-repair         4099\n",
       " Exec-managerial      4066\n",
       " Adm-clerical         3770\n",
       " Sales                3650\n",
       " Other-service        3295\n",
       " Machine-op-inspct    2002\n",
       " ?                    1843\n",
       " Transport-moving     1597\n",
       " Handlers-cleaners    1370\n",
       " Farming-fishing       994\n",
       " Tech-support          928\n",
       " Protective-serv       649\n",
       " Priv-house-serv       149\n",
       " Armed-Forces            9\n",
       "Name: occupation, dtype: int64"
      ]
     },
     "execution_count": 12,
     "metadata": {},
     "output_type": "execute_result"
    }
   ],
   "source": [
    "df['occupation'].value_counts()"
   ]
  },
  {
   "cell_type": "code",
   "execution_count": 13,
   "id": "injured-emperor",
   "metadata": {},
   "outputs": [
    {
     "data": {
      "text/plain": [
       " United States                 29170\n",
       " Mexico                          643\n",
       " ?                               583\n",
       " Philippines                     198\n",
       " Germany                         137\n",
       " Canada                          121\n",
       " Puerto Rico                     114\n",
       " El Salvador                     106\n",
       " India                           100\n",
       " Cuba                             95\n",
       " England                          90\n",
       " Jamaica                          81\n",
       " South                            80\n",
       " China                            75\n",
       " Italy                            73\n",
       " Dominican Republic               70\n",
       " Vietnam                          67\n",
       " Guatemala                        64\n",
       " Japan                            62\n",
       " Poland                           60\n",
       " Columbia                         59\n",
       " Taiwan                           51\n",
       " Haiti                            44\n",
       " Iran                             43\n",
       " Portugal                         37\n",
       " Nicaragua                        34\n",
       " Peru                             31\n",
       " France                           29\n",
       " Greece                           29\n",
       " Ecuador                          28\n",
       " Ireland                          24\n",
       " Hong                             20\n",
       " Cambodia                         19\n",
       " Trinadad&Tobago                  19\n",
       " Laos                             18\n",
       " Thailand                         18\n",
       " Yugoslavia                       16\n",
       " Outlying US(Guam USVI etc)       14\n",
       " Honduras                         13\n",
       " Hungary                          13\n",
       " Scotland                         12\n",
       " Holand Netherlands                1\n",
       "Name: native-country, dtype: int64"
      ]
     },
     "execution_count": 13,
     "metadata": {},
     "output_type": "execute_result"
    }
   ],
   "source": [
    "df['native-country'].value_counts()"
   ]
  },
  {
   "cell_type": "code",
   "execution_count": 14,
   "id": "previous-upper",
   "metadata": {},
   "outputs": [
    {
     "data": {
      "text/plain": [
       "age                   37.0\n",
       "fnlwgt            178356.0\n",
       "education-num         10.0\n",
       "capital-gain           0.0\n",
       "capital-loss           0.0\n",
       "hours-per-week        40.0\n",
       "Name: 0.5, dtype: float64"
      ]
     },
     "execution_count": 14,
     "metadata": {},
     "output_type": "execute_result"
    }
   ],
   "source": [
    "df.quantile()"
   ]
  },
  {
   "cell_type": "code",
   "execution_count": 15,
   "id": "elementary-panama",
   "metadata": {
    "scrolled": true
   },
   "outputs": [
    {
     "data": {
      "text/html": [
       "<div>\n",
       "<style scoped>\n",
       "    .dataframe tbody tr th:only-of-type {\n",
       "        vertical-align: middle;\n",
       "    }\n",
       "\n",
       "    .dataframe tbody tr th {\n",
       "        vertical-align: top;\n",
       "    }\n",
       "\n",
       "    .dataframe thead th {\n",
       "        text-align: right;\n",
       "    }\n",
       "</style>\n",
       "<table border=\"1\" class=\"dataframe\">\n",
       "  <thead>\n",
       "    <tr style=\"text-align: right;\">\n",
       "      <th></th>\n",
       "      <th>age</th>\n",
       "      <th>workclass</th>\n",
       "      <th>fnlwgt</th>\n",
       "      <th>education</th>\n",
       "      <th>education-num</th>\n",
       "      <th>marital-status</th>\n",
       "      <th>occupation</th>\n",
       "      <th>relationship</th>\n",
       "      <th>race</th>\n",
       "      <th>sex</th>\n",
       "      <th>capital-gain</th>\n",
       "      <th>capital-loss</th>\n",
       "      <th>hours-per-week</th>\n",
       "      <th>native-country</th>\n",
       "      <th>income</th>\n",
       "    </tr>\n",
       "  </thead>\n",
       "  <tbody>\n",
       "    <tr>\n",
       "      <th>0</th>\n",
       "      <td>36.0</td>\n",
       "      <td>Private</td>\n",
       "      <td>123011</td>\n",
       "      <td>HS-grad</td>\n",
       "      <td>9.0</td>\n",
       "      <td>Married-civ-spouse</td>\n",
       "      <td>Prof-specialty</td>\n",
       "      <td>Husband</td>\n",
       "      <td>White</td>\n",
       "      <td>Male</td>\n",
       "      <td>0.0</td>\n",
       "      <td>0.0</td>\n",
       "      <td>40.0</td>\n",
       "      <td>United States</td>\n",
       "      <td>&lt;=50K</td>\n",
       "    </tr>\n",
       "    <tr>\n",
       "      <th>1</th>\n",
       "      <td>NaN</td>\n",
       "      <td>NaN</td>\n",
       "      <td>164190</td>\n",
       "      <td>NaN</td>\n",
       "      <td>NaN</td>\n",
       "      <td>NaN</td>\n",
       "      <td>NaN</td>\n",
       "      <td>NaN</td>\n",
       "      <td>NaN</td>\n",
       "      <td>NaN</td>\n",
       "      <td>NaN</td>\n",
       "      <td>NaN</td>\n",
       "      <td>NaN</td>\n",
       "      <td>NaN</td>\n",
       "      <td>NaN</td>\n",
       "    </tr>\n",
       "    <tr>\n",
       "      <th>2</th>\n",
       "      <td>NaN</td>\n",
       "      <td>NaN</td>\n",
       "      <td>203488</td>\n",
       "      <td>NaN</td>\n",
       "      <td>NaN</td>\n",
       "      <td>NaN</td>\n",
       "      <td>NaN</td>\n",
       "      <td>NaN</td>\n",
       "      <td>NaN</td>\n",
       "      <td>NaN</td>\n",
       "      <td>NaN</td>\n",
       "      <td>NaN</td>\n",
       "      <td>NaN</td>\n",
       "      <td>NaN</td>\n",
       "      <td>NaN</td>\n",
       "    </tr>\n",
       "  </tbody>\n",
       "</table>\n",
       "</div>"
      ],
      "text/plain": [
       "    age workclass  fnlwgt education  education-num       marital-status  \\\n",
       "0  36.0   Private  123011   HS-grad            9.0   Married-civ-spouse   \n",
       "1   NaN       NaN  164190       NaN            NaN                  NaN   \n",
       "2   NaN       NaN  203488       NaN            NaN                  NaN   \n",
       "\n",
       "        occupation relationship    race    sex  capital-gain  capital-loss  \\\n",
       "0   Prof-specialty      Husband   White   Male           0.0           0.0   \n",
       "1              NaN          NaN     NaN    NaN           NaN           NaN   \n",
       "2              NaN          NaN     NaN    NaN           NaN           NaN   \n",
       "\n",
       "   hours-per-week  native-country  income  \n",
       "0            40.0   United States   <=50K  \n",
       "1             NaN             NaN     NaN  \n",
       "2             NaN             NaN     NaN  "
      ]
     },
     "execution_count": 15,
     "metadata": {},
     "output_type": "execute_result"
    }
   ],
   "source": [
    "df.mode()"
   ]
  },
  {
   "cell_type": "code",
   "execution_count": 16,
   "id": "printable-testament",
   "metadata": {},
   "outputs": [
    {
     "data": {
      "text/plain": [
       "age                   38.581647\n",
       "fnlwgt            189778.366512\n",
       "education-num         10.080679\n",
       "capital-gain        1077.648844\n",
       "capital-loss          87.303830\n",
       "hours-per-week        40.437456\n",
       "dtype: float64"
      ]
     },
     "execution_count": 16,
     "metadata": {},
     "output_type": "execute_result"
    }
   ],
   "source": [
    "df.mean(numeric_only=True)"
   ]
  },
  {
   "cell_type": "code",
   "execution_count": 17,
   "id": "central-dating",
   "metadata": {},
   "outputs": [],
   "source": [
    "wkconditions = [\n",
    "    (df['hours-per-week'] < 40),\n",
    "    (df['hours-per-week'] == 40),\n",
    "    (df['hours-per-week'] > 40)\n",
    "    ]\n",
    "values = ['<40','40', '>40']"
   ]
  },
  {
   "cell_type": "code",
   "execution_count": 18,
   "id": "running-electronics",
   "metadata": {},
   "outputs": [],
   "source": [
    "df['wkHoursSegment'] = np.select(wkconditions, values)"
   ]
  },
  {
   "cell_type": "code",
   "execution_count": 19,
   "id": "worldwide-mapping",
   "metadata": {},
   "outputs": [],
   "source": [
    "prior = df.groupby('income').size().div(len(df)) "
   ]
  },
  {
   "cell_type": "code",
   "execution_count": 20,
   "id": "suffering-projection",
   "metadata": {},
   "outputs": [
    {
     "name": "stdout",
     "output_type": "stream",
     "text": [
      "income\n",
      " <=50K    0.75919\n",
      " >50K     0.24081\n",
      "dtype: float64\n"
     ]
    }
   ],
   "source": [
    "print(prior)"
   ]
  },
  {
   "cell_type": "code",
   "execution_count": 21,
   "id": "stock-usage",
   "metadata": {},
   "outputs": [],
   "source": [
    "likelihood = {}\n",
    "likelihood['age'] = df.groupby(['income', 'age']).size().div(len(df)).div(prior)\n",
    "likelihood['education'] = df.groupby(['income', 'education']).size().div(len(df)).div(prior)\n",
    "likelihood['sex'] = df.groupby(['income', 'sex']).size().div(len(df)).div(prior)\n",
    "likelihood['wkHoursSegment'] = df.groupby(['income', 'wkHoursSegment']).size().div(len(df)).div(prior)"
   ]
  },
  {
   "cell_type": "code",
   "execution_count": 22,
   "id": "missing-apparatus",
   "metadata": {},
   "outputs": [
    {
     "name": "stdout",
     "output_type": "stream",
     "text": [
      "{'age': income  age\n",
      " <=50K  17     0.015979\n",
      "        18     0.022249\n",
      "        19     0.028722\n",
      "        20     0.030461\n",
      "        21     0.029005\n",
      "                 ...   \n",
      " >50K   80     0.000255\n",
      "        81     0.000383\n",
      "        83     0.000255\n",
      "        84     0.000128\n",
      "        90     0.001020\n",
      "Length: 138, dtype: float64, 'education': income  education    \n",
      " <=50K   10th            0.035235\n",
      "         11th            0.045105\n",
      "         12th            0.016181\n",
      "         1st-4th         0.006553\n",
      "         5th-6th         0.012824\n",
      "         7th-8th         0.024515\n",
      "         9th             0.019701\n",
      "         Assoc-acdm      0.032443\n",
      "         Assoc-voc       0.041303\n",
      "         Bachelors       0.126780\n",
      "         Doctorate       0.004328\n",
      "         HS-grad         0.357039\n",
      "         Masters         0.030906\n",
      "         Preschool       0.002063\n",
      "         Prof-school     0.006189\n",
      "         Some-college    0.238835\n",
      " >50K    10th            0.007907\n",
      "         11th            0.007652\n",
      "         12th            0.004209\n",
      "         1st-4th         0.000765\n",
      "         5th-6th         0.002041\n",
      "         7th-8th         0.005101\n",
      "         9th             0.003443\n",
      "         Assoc-acdm      0.033797\n",
      "         Assoc-voc       0.046040\n",
      "         Bachelors       0.283255\n",
      "         Doctorate       0.039026\n",
      "         HS-grad         0.213621\n",
      "         Masters         0.122306\n",
      "         Prof-school     0.053947\n",
      "         Some-college    0.176891\n",
      "dtype: float64, 'sex': income  sex    \n",
      " <=50K   Female    0.388026\n",
      "         Male      0.611974\n",
      " >50K    Female    0.150363\n",
      "         Male      0.849637\n",
      "dtype: float64, 'wkHoursSegment': income  wkHoursSegment\n",
      " <=50K  40                0.484223\n",
      "        <40               0.284183\n",
      "        >40               0.231594\n",
      " >50K   40                0.414105\n",
      "        <40               0.094121\n",
      "        >40               0.491774\n",
      "dtype: float64}\n"
     ]
    }
   ],
   "source": [
    "print (likelihood)"
   ]
  },
  {
   "cell_type": "code",
   "execution_count": 23,
   "id": "dated-gather",
   "metadata": {},
   "outputs": [
    {
     "data": {
      "text/plain": [
       "<AxesSubplot:ylabel='Frequency'>"
      ]
     },
     "execution_count": 23,
     "metadata": {},
     "output_type": "execute_result"
    },
    {
     "data": {
      "image/png": "[encoded data removed]",
      "text/plain": [
       "<Figure size 432x288 with 1 Axes>"
      ]
     },
     "metadata": {
      "needs_background": "light"
     },
     "output_type": "display_data"
    }
   ],
   "source": [
    "likelihood['age'].plot.hist()"
   ]
  },
  {
   "cell_type": "code",
   "execution_count": 24,
   "id": "individual-label",
   "metadata": {},
   "outputs": [],
   "source": [
    "#p_50k = likelihood['age']['>50K']['21'] * likelihood['education']['>50K']['Doctorate'] * likelihood['sex']['>50K']['Female'] * likelihood['wkHoursSegment']['>50K']['>40'] * prior['>50K']"
   ]
  },
  {
   "cell_type": "code",
   "execution_count": 25,
   "id": "corresponding-indonesia",
   "metadata": {},
   "outputs": [],
   "source": [
    "age_chart = df[['age']]"
   ]
  },
  {
   "cell_type": "code",
   "execution_count": 26,
   "id": "civic-toolbox",
   "metadata": {},
   "outputs": [
    {
     "data": {
      "text/plain": [
       "array([[<AxesSubplot:title={'center':'age'}>]], dtype=object)"
      ]
     },
     "execution_count": 26,
     "metadata": {},
     "output_type": "execute_result"
    },
    {
     "data": {
      "image/png": "[encoded data removed]",
      "text/plain": [
       "<Figure size 432x288 with 1 Axes>"
      ]
     },
     "metadata": {
      "needs_background": "light"
     },
     "output_type": "display_data"
    }
   ],
   "source": [
    "age_chart.hist(bins=15)"
   ]
  },
  {
   "cell_type": "code",
   "execution_count": 27,
   "id": "vietnamese-jackson",
   "metadata": {},
   "outputs": [],
   "source": [
    "edu_chart = df[['education-num']]"
   ]
  },
  {
   "cell_type": "code",
   "execution_count": 28,
   "id": "molecular-junction",
   "metadata": {},
   "outputs": [
    {
     "data": {
      "text/plain": [
       "array([[<AxesSubplot:title={'center':'education-num'}>]], dtype=object)"
      ]
     },
     "execution_count": 28,
     "metadata": {},
     "output_type": "execute_result"
    },
    {
     "data": {
      "image/png": "[encoded data removed]",
      "text/plain": [
       "<Figure size 432x288 with 1 Axes>"
      ]
     },
     "metadata": {
      "needs_background": "light"
     },
     "output_type": "display_data"
    }
   ],
   "source": [
    "edu_chart.hist()"
   ]
  },
  {
   "cell_type": "code",
   "execution_count": null,
   "id": "quantitative-designer",
   "metadata": {},
   "outputs": [],
   "source": []
  },
  {
   "cell_type": "code",
   "execution_count": null,
   "id": "indonesian-samoa",
   "metadata": {},
   "outputs": [],
   "source": []
  }
 ],
 "metadata": {
  "kernelspec": {
   "display_name": "Python 3",
   "language": "python",
   "name": "python3"
  },
  "language_info": {
   "codemirror_mode": {
    "name": "ipython",
    "version": 3
   },
   "file_extension": ".py",
   "mimetype": "text/x-python",
   "name": "python",
   "nbconvert_exporter": "python",
   "pygments_lexer": "ipython3",
   "version": "3.8.5"
  }
 },
 "nbformat": 4,
 "nbformat_minor": 5
}
